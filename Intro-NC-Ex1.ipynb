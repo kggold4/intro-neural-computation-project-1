{
 "cells": [
  {
   "cell_type": "code",
   "execution_count": 29,
   "id": "f63bb7ea",
   "metadata": {},
   "outputs": [],
   "source": [
    "from matplotlib import pyplot as plt\n",
    "%matplotlib inline\n",
    "\n",
    "import random\n",
    "import numpy as np"
   ]
  },
  {
   "cell_type": "markdown",
   "id": "72e35382",
   "metadata": {},
   "source": [
    "### Util Funcitons"
   ]
  },
  {
   "cell_type": "code",
   "execution_count": 30,
   "id": "1db9027d",
   "metadata": {},
   "outputs": [],
   "source": [
    "def generate_node() -> tuple((float, float)):\n",
    "    \"\"\"\n",
    "    Return a tuple of two float value <x, y>\n",
    "    when x, y <= +-100\n",
    "    \"\"\"\n",
    "    x = random.randint(-10000, 10000)\n",
    "    y = random.randint(-10000, 10000)\n",
    "    return (x / 100, y / 100)\n",
    "\n",
    "def step_function(data: int) -> int:\n",
    "    \"\"\"\n",
    "    Step function\n",
    "    \"\"\"\n",
    "    return 1 if data > 1 else -1\n",
    "\n",
    "def create_data(n: int = 1000, index: int = 1) -> tuple:\n",
    "    \"\"\"\n",
    "    Create two arrays of data, the first one called data contains n tuples of two random float value <x, y>,\n",
    "    the second called label contains n labels of the data values: 1 if data.y > 1 else -1\n",
    "    \"\"\"\n",
    "    data = []\n",
    "    label = []\n",
    "    for _ in range(n):\n",
    "        node = generate_node()\n",
    "        data.append(node)\n",
    "        label.append(step_function(node[index]))\n",
    "    return (np.array(data), np.array(label))\n",
    "\n",
    "def accuracy(predicted: list, test_label: list) -> float:\n",
    "    \"\"\"\n",
    "    Given a predicted label and the test label return the accuracy\n",
    "    \"\"\"\n",
    "    count = 0\n",
    "    for i, j in zip(predicted, test_label):\n",
    "        if i == j:\n",
    "            count += 1\n",
    "    return count / len(predicted)\n",
    "    \n",
    "def MSE(predicted: list, test_label: list) -> float:\n",
    "    \"\"\"\n",
    "    Calculate the MSE (Mean Square error)\n",
    "    \"\"\"\n",
    "    return ((np.array(predicted) - np.array(test_label))**2).mean()"
   ]
  },
  {
   "cell_type": "markdown",
   "id": "d3501ed5",
   "metadata": {},
   "source": [
    "### Adaline Model"
   ]
  },
  {
   "cell_type": "code",
   "execution_count": 31,
   "id": "b26239ae",
   "metadata": {},
   "outputs": [],
   "source": [
    "LEARNING_RATE = 0.01\n",
    "RANDOM_STATE = 1\n",
    "EPOCH = 30\n",
    "\n",
    "class AdalineModel(object):\n",
    "    def __init__(self, epoch: int = EPOCH, random_state: int = RANDOM_STATE):\n",
    "        self.epoch = epoch\n",
    "        self.random_state = random_state\n",
    "        self.bias = 0.1\n",
    "        \n",
    "    def fit(self, X: list, y: list):\n",
    "        state = np.random.RandomState(self.random_state)\n",
    "        self.weights = state.normal(loc=0.0, scale=0.1, size=train_data.shape[1]) # generate new weights\n",
    "        self.errors = []\n",
    "        self.accuracies = []\n",
    "        \n",
    "        for _ in range(self.epoch):\n",
    "            predicted = [step_function(x) for x in self.activation(X)]  # get all the predicted values\n",
    "            errors = y - predicted  # get all the error between real label and predicted\n",
    "            self.weights[:] = self.weights[:] + LEARNING_RATE * X.T.dot(errors)  # update weights\n",
    "            self.bias = self.bias + LEARNING_RATE * errors.sum()  # update bias\n",
    "            self.errors.append(MSE(predicted, y))  # add current error to errors list\n",
    "            self.accuracies.append(accuracy(predicted, y))  # add the current accuracy to accuracies list\n",
    "\n",
    "    def net_input(self, X: list) -> list:\n",
    "        result = np.dot(X, self.weights[:]) + self.bias\n",
    "        return result\n",
    "    \n",
    "    def activation(self, X: list) -> list:\n",
    "        return self.net_input(X)\n",
    "\n",
    "    def predict(self, X: list) -> list:\n",
    "        return [step_function(x) for x in self.activation(X)]"
   ]
  },
  {
   "cell_type": "markdown",
   "id": "6f5c9de0",
   "metadata": {},
   "source": [
    "### Example"
   ]
  },
  {
   "cell_type": "code",
   "execution_count": 32,
   "id": "cccb2950",
   "metadata": {},
   "outputs": [],
   "source": [
    "train_data, train_label = create_data()\n",
    "\n",
    "# create and fit a model\n",
    "adaline_model = AdalineModel()\n",
    "adaline_model.fit(np.array(train_data), np.array(train_label))"
   ]
  },
  {
   "cell_type": "code",
   "execution_count": 33,
   "id": "340bc562",
   "metadata": {},
   "outputs": [
    {
     "data": {
      "image/png": "[encoded data removed]",
      "text/plain": [
       "<Figure size 432x288 with 1 Axes>"
      ]
     },
     "metadata": {
      "needs_background": "light"
     },
     "output_type": "display_data"
    }
   ],
   "source": [
    "plt.plot(adaline_model.errors, label=\"errors\")\n",
    "plt.xlabel('Epoch')\n",
    "plt.ylabel('Mean Square Error')\n",
    "plt.title('Errors')\n",
    "plt.xticks(np.arange(EPOCH, step=2))\n",
    "plt.show()"
   ]
  },
  {
   "cell_type": "code",
   "execution_count": 34,
   "id": "53f93618",
   "metadata": {},
   "outputs": [
    {
     "data": {
      "image/png": "[encoded data removed]",
      "text/plain": [
       "<Figure size 432x288 with 1 Axes>"
      ]
     },
     "metadata": {
      "needs_background": "light"
     },
     "output_type": "display_data"
    }
   ],
   "source": [
    "plt.plot(adaline_model.accuracies, label='accuracies')\n",
    "plt.xlabel('Epoch')\n",
    "plt.ylabel('Accuracy')\n",
    "plt.title('Accuracy')\n",
    "plt.xticks(np.arange(EPOCH, step=2))\n",
    "plt.show()"
   ]
  },
  {
   "cell_type": "code",
   "execution_count": 35,
   "id": "a768de4b",
   "metadata": {},
   "outputs": [
    {
     "name": "stdout",
     "output_type": "stream",
     "text": [
      "Accuracy for test_data_1: 0.999\n",
      "Accuracy for test_data_2: 0.465\n"
     ]
    }
   ],
   "source": [
    "# predict for test_data_1\n",
    "test_data_1, test_label_1 = create_data()\n",
    "predicted = adaline_model.predict(np.array(test_data_1))\n",
    "print(f\"Accuracy for test_data_1: {accuracy(test_label_1, predicted)}\")\n",
    "\n",
    "# predict for test_data_2\n",
    "test_data_2, test_label_2 = create_data()\n",
    "predicted = adaline_model.predict(np.array(test_data_2))\n",
    "print(f\"Accuracy for test_data_2: {accuracy(test_label_1, predicted)}\")"
   ]
  },
  {
   "cell_type": "markdown",
   "id": "7d597f22",
   "metadata": {},
   "source": [
    "## Part B:"
   ]
  },
  {
   "cell_type": "code",
   "execution_count": 36,
   "id": "49c16f39",
   "metadata": {},
   "outputs": [],
   "source": [
    "def step_function(data: int) -> int:\n",
    "    \"\"\"\n",
    "    Step function\n",
    "    \"\"\"\n",
    "    return 1 if data > 1 else -1"
   ]
  },
  {
   "cell_type": "code",
   "execution_count": 9,
   "id": "c28a589b",
   "metadata": {},
   "outputs": [],
   "source": [
    "# 4 <= x^2 + y^2 <= 9\n"
   ]
  }
 ],
 "metadata": {
  "kernelspec": {
   "display_name": "Python 3",
   "language": "python",
   "name": "python3"
  },
  "language_info": {
   "codemirror_mode": {
    "name": "ipython",
    "version": 3
   },
   "file_extension": ".py",
   "mimetype": "text/x-python",
   "name": "python",
   "nbconvert_exporter": "python",
   "pygments_lexer": "ipython3",
   "version": "3.10.4"
  }
 },
 "nbformat": 4,
 "nbformat_minor": 5
}
