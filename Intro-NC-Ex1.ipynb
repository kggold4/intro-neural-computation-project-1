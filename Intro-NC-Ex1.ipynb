{
 "cells": [
  {
   "cell_type": "code",
   "execution_count": 1,
   "id": "f63bb7ea",
   "metadata": {},
   "outputs": [],
   "source": [
    "from matplotlib import pyplot as plt\n",
    "%matplotlib inline\n",
    "\n",
    "import random\n",
    "import numpy as np"
   ]
  },
  {
   "cell_type": "markdown",
   "id": "72e35382",
   "metadata": {},
   "source": [
    "### Util Funcitons"
   ]
  },
  {
   "cell_type": "code",
   "execution_count": 2,
   "id": "1db9027d",
   "metadata": {},
   "outputs": [],
   "source": [
    "def generate_node() -> tuple((float, float)):\n",
    "    \"\"\"\n",
    "    Return a tuple of two float value <x, y>\n",
    "    when x, y <= +-100\n",
    "    \"\"\"\n",
    "    x = random.randint(-10000, 10000)\n",
    "    y = random.randint(-10000, 10000)\n",
    "    return (x / 100, y / 100)\n",
    "\n",
    "def step(data: int) -> int:\n",
    "    \"\"\"\n",
    "    Step function\n",
    "    \"\"\"\n",
    "    return 1 if data > 1 else -1\n",
    "\n",
    "def create_data(n: int = 1000) -> tuple:\n",
    "    \"\"\"\n",
    "    Create two arrays of data, the first one called data contains n tuples of two random float value <x, y>,\n",
    "    the second called label contains n labels of the data values: 1 if data.y > 1 else -1\n",
    "    \"\"\"\n",
    "    data = []\n",
    "    label = []\n",
    "    for _ in range(n):\n",
    "        node = generate_node()\n",
    "        data.append(node)\n",
    "        label.append(step(node[1]))\n",
    "    return (np.array(data), np.array(label))\n",
    "\n",
    "def accuracy(predicted: list, test_label: list) -> float:\n",
    "    \"\"\"\n",
    "    Given a predicted label and the test label return the accuracy\n",
    "    \"\"\"\n",
    "    not_equal = predicted != np.sign(test_label)\n",
    "    return np.sum(not_equal) / len(test_label)\n",
    "    \n",
    "def MSE(predicted: list, test_label: list) -> float:\n",
    "    \"\"\"\n",
    "    Calculate the MSE (Mean Square error)\n",
    "    \"\"\"\n",
    "    return ((np.array(predicted) - np.array(test_label))**2).mean()"
   ]
  },
  {
   "cell_type": "markdown",
   "id": "d3501ed5",
   "metadata": {},
   "source": [
    "### Adaline Model"
   ]
  },
  {
   "cell_type": "code",
   "execution_count": 30,
   "id": "b26239ae",
   "metadata": {},
   "outputs": [],
   "source": [
    "LEARNING_RATE = 0.01\n",
    "RANDOM_STATE = 1\n",
    "EPOCH = 20\n",
    "\n",
    "class AdalineModel(object):\n",
    "    def __init__(self, epoch: int = EPOCH, random_state: int = RANDOM_STATE):\n",
    "        self.epoch = epoch\n",
    "        self.random_state = random_state\n",
    "        self.bias = 0.5\n",
    "        \n",
    "    def fit(self, X: list, y: list):\n",
    "        state = np.random.RandomState(self.random_state)\n",
    "        self.weights = state.normal(loc=0.0, scale=0.01, size=train_data.shape[1]) # generate new weights\n",
    "        self.errors = []\n",
    "\n",
    "        for _ in range(self.epoch):\n",
    "            predicted = self.net_input(X)  # get all the predicted values\n",
    "            errors = y - predicted  # get all the error between real label and predicted\n",
    "#             print(errors)\n",
    "            self.weights[:] += LEARNING_RATE * X.T.dot(errors)  # update weights\n",
    "            self.bias += (LEARNING_RATE * errors).sum()  # update bias\n",
    "            #  self.errors.append((errors ** 2).sum() / 2.0)  # add the error to the errors\n",
    "#             print(len(errors))\n",
    "            print((errors ** 2).sum() / len(errors))\n",
    "            print(MSE(predicted, y))\n",
    "#             self.errors.append()\n",
    "\n",
    "    def net_input(self, X: list) -> list:\n",
    "        return np.dot(X, self.weights[:]) + self.bias\n",
    "\n",
    "    def predict(self, X: list) -> list:\n",
    "        return np.where(self.net_input(X) >= 1.0, 1, -1)"
   ]
  },
  {
   "cell_type": "markdown",
   "id": "6f5c9de0",
   "metadata": {},
   "source": [
    "### Example"
   ]
  },
  {
   "cell_type": "code",
   "execution_count": 34,
   "id": "cccb2950",
   "metadata": {},
   "outputs": [
    {
     "name": "stdout",
     "output_type": "stream",
     "text": [
      "3.0874555573601365\n",
      "3.0874555573601365\n",
      "335499991446.5341\n",
      "335499991446.5341\n",
      "4.337998107092678e+22\n",
      "4.337998107092678e+22\n",
      "5.610204035823531e+33\n",
      "5.610204035823531e+33\n",
      "7.256708802646894e+44\n",
      "7.256708802646894e+44\n",
      "9.387639182939331e+55\n",
      "9.387639182939331e+55\n",
      "1.214552362957044e+67\n",
      "1.214552362957044e+67\n",
      "1.5714825546747872e+78\n",
      "1.5714825546747872e+78\n",
      "2.0334281459078926e+89\n",
      "2.0334281459078926e+89\n",
      "2.6312869336646036e+100\n",
      "2.6312869336646036e+100\n",
      "3.405047514645747e+111\n",
      "3.405047514645747e+111\n",
      "4.4064639950019335e+122\n",
      "4.4064639950019335e+122\n",
      "5.702517657512354e+133\n",
      "5.702517657512354e+133\n",
      "7.379897126067598e+144\n",
      "7.379897126067598e+144\n",
      "9.55079669137729e+155\n",
      "9.55079669137729e+155\n",
      "1.2360420629425317e+167\n",
      "1.2360420629425317e+167\n",
      "1.5996695452612263e+178\n",
      "1.5996695452612263e+178\n",
      "2.070283971510372e+189\n",
      "2.070283971510372e+189\n",
      "2.6793632126594378e+200\n",
      "2.6793632126594378e+200\n",
      "3.4676466096759484e+211\n",
      "3.4676466096759484e+211\n",
      "0.789\n"
     ]
    }
   ],
   "source": [
    "train_data, train_label = create_data()\n",
    "test_data, test_label = create_data()\n",
    "\n",
    "adaline_model = AdalineModel()\n",
    "adaline_model.fit(np.array(train_data), np.array(train_label))\n",
    "predicted = adaline_model.predict(np.array(test_data))\n",
    "print(accuracy(predicted, test_label))"
   ]
  },
  {
   "cell_type": "code",
   "execution_count": 35,
   "id": "340bc562",
   "metadata": {},
   "outputs": [
    {
     "data": {
      "image/png": "[encoded data removed]",
      "text/plain": [
       "<Figure size 432x288 with 1 Axes>"
      ]
     },
     "metadata": {
      "needs_background": "light"
     },
     "output_type": "display_data"
    }
   ],
   "source": [
    "plt.plot(adaline_model.errors)\n",
    "plt.show()"
   ]
  },
  {
   "cell_type": "code",
   "execution_count": null,
   "id": "55676015",
   "metadata": {},
   "outputs": [],
   "source": []
  }
 ],
 "metadata": {
  "kernelspec": {
   "display_name": "Python 3",
   "language": "python",
   "name": "python3"
  },
  "language_info": {
   "codemirror_mode": {
    "name": "ipython",
    "version": 3
   },
   "file_extension": ".py",
   "mimetype": "text/x-python",
   "name": "python",
   "nbconvert_exporter": "python",
   "pygments_lexer": "ipython3",
   "version": "3.10.4"
  }
 },
 "nbformat": 4,
 "nbformat_minor": 5
}
