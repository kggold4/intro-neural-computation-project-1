{
 "cells": [
  {
   "cell_type": "code",
   "execution_count": 1,
   "id": "f63bb7ea",
   "metadata": {},
   "outputs": [],
   "source": [
    "from matplotlib import pyplot as plt\n",
    "%matplotlib inline\n",
    "\n",
    "import random\n",
    "import numpy as np"
   ]
  },
  {
   "cell_type": "markdown",
   "id": "72e35382",
   "metadata": {},
   "source": [
    "### Util Funcitons"
   ]
  },
  {
   "cell_type": "code",
   "execution_count": 2,
   "id": "1db9027d",
   "metadata": {},
   "outputs": [],
   "source": [
    "def generate_node() -> (float, float):\n",
    "    x = random.randint(-10000, 10000)\n",
    "    y = random.randint(-10000, 10000)\n",
    "    return (x / 100, y / 100)\n",
    "\n",
    "def step(data: int) -> int:\n",
    "    return 1 if data > 1 else -1\n",
    "\n",
    "def create_data(n: int = 1000) -> tuple:\n",
    "    data = []\n",
    "    label = []\n",
    "    for _ in range(n):\n",
    "        node = generate_node()\n",
    "        data.append(node)\n",
    "        label.append(step(node[1]))\n",
    "    return (np.array(data), np.array(label))\n",
    "\n",
    "def accuracy(predicted: list, test_label: list) -> float:\n",
    "        not_equal = predicted != np.sign(test_label)\n",
    "        return np.sum(not_equal) / len(test_label)\n",
    "    \n",
    "def MSE(predicted: list, test_label: list) -> float:\n",
    "    return ((np.array(predicted) - np.array(test_label))**2).mean()"
   ]
  },
  {
   "cell_type": "markdown",
   "id": "d3501ed5",
   "metadata": {},
   "source": [
    "### Adaline Model"
   ]
  },
  {
   "cell_type": "code",
   "execution_count": 30,
   "id": "b26239ae",
   "metadata": {},
   "outputs": [],
   "source": [
    "LEARNING_RATE = 0.1\n",
    "RANDOM_STATE = 1\n",
    "EPOCH = 20\n",
    "\n",
    "class AdalineModel(object):\n",
    "    def __init__(self, epoch: int = EPOCH, random_state: int = RANDOM_STATE):\n",
    "        self.epoch = epoch\n",
    "        self.random_state = random_state\n",
    "        self.bias = 0.5\n",
    "        \n",
    "    def fit(self, X: list, y: list):\n",
    "        state = np.random.RandomState(self.random_state)\n",
    "        self.weights = state.normal(loc=0.0, scale=0.01, size=train_data.shape[1]) # generate new weights\n",
    "        self.errors = []\n",
    "\n",
    "        for _ in range(self.epoch):\n",
    "            predicted = self.net_input(X)  # get all the predicted values\n",
    "            errors = y - predicted  # get all the error between real label and predicted\n",
    "#             print(errors)\n",
    "            self.weights[:] += LEARNING_RATE * X.T.dot(errors)  # update weights\n",
    "            self.bias += LEARNING_RATE * errors.sum()  # update bias\n",
    "            #  self.errors.append((errors ** 2).sum() / 2.0)  # add the error to the errors\n",
    "#             print(len(errors))\n",
    "#             print((errors ** 2).sum() / len(errors))\n",
    "#             self.errors.append()\n",
    "\n",
    "    def net_input(self, X: list) -> list:\n",
    "        return np.dot(X, self.weights[:]) + self.bias\n",
    "\n",
    "    def predict(self, X: list) -> list:\n",
    "        return np.where(self.net_input(X) >= 1.0, 1, -1)"
   ]
  },
  {
   "cell_type": "markdown",
   "id": "6f5c9de0",
   "metadata": {},
   "source": [
    "### Example"
   ]
  },
  {
   "cell_type": "code",
   "execution_count": 31,
   "id": "cccb2950",
   "metadata": {},
   "outputs": [
    {
     "name": "stdout",
     "output_type": "stream",
     "text": [
      "0.987\n"
     ]
    }
   ],
   "source": [
    "train_data, train_label = create_data()\n",
    "test_data, test_label = create_data()\n",
    "\n",
    "adaline_model = AdalineModel()\n",
    "adaline_model.fit(np.array(train_data), np.array(train_label))\n",
    "predicted = adaline_model.predict(np.array(test_data))\n",
    "print(accuracy(predicted, test_label))"
   ]
  },
  {
   "cell_type": "code",
   "execution_count": 32,
   "id": "340bc562",
   "metadata": {},
   "outputs": [
    {
     "data": {
      "image/png": "[encoded data removed]",
      "text/plain": [
       "<Figure size 432x288 with 1 Axes>"
      ]
     },
     "metadata": {
      "needs_background": "light"
     },
     "output_type": "display_data"
    }
   ],
   "source": [
    "plt.plot(adaline_model.errors)\n",
    "plt.show()"
   ]
  },
  {
   "cell_type": "code",
   "execution_count": null,
   "id": "55676015",
   "metadata": {},
   "outputs": [],
   "source": []
  }
 ],
 "metadata": {
  "kernelspec": {
   "display_name": "Python 3",
   "language": "python",
   "name": "python3"
  },
  "language_info": {
   "codemirror_mode": {
    "name": "ipython",
    "version": 3
   },
   "file_extension": ".py",
   "mimetype": "text/x-python",
   "name": "python",
   "nbconvert_exporter": "python",
   "pygments_lexer": "ipython3",
   "version": "3.8.8"
  }
 },
 "nbformat": 4,
 "nbformat_minor": 5
}
