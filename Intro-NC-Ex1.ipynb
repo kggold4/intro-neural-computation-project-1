{
 "cells": [
  {
   "cell_type": "code",
   "execution_count": 119,
   "id": "f63bb7ea",
   "metadata": {},
   "outputs": [],
   "source": [
    "from matplotlib import pyplot as plt\n",
    "%matplotlib inline\n",
    "\n",
    "import random\n",
    "import numpy as np\n",
    "from typing import Union"
   ]
  },
  {
   "cell_type": "markdown",
   "id": "72e35382",
   "metadata": {},
   "source": [
    "### Util Funcitons"
   ]
  },
  {
   "cell_type": "code",
   "execution_count": 120,
   "id": "1db9027d",
   "metadata": {},
   "outputs": [],
   "source": [
    "VALID_NUMBER_TYPES = [int, float, np.float64]\n",
    "VALID_SET_TYPES = [tuple, list, np.ndarray]\n",
    "\n",
    "def generate_node() -> tuple((float, float)):\n",
    "    \"\"\"\n",
    "    Return a tuple of two float value <x, y>\n",
    "    when x, y <= +-100\n",
    "    \"\"\"\n",
    "    x = random.randint(-10000, 10000)\n",
    "    y = random.randint(-10000, 10000)\n",
    "    return (x / 100, y / 100)\n",
    "\n",
    "def step_function(data: Union[float, np.float64, np.ndarray]) -> int:\n",
    "    \"\"\"\n",
    "    Step function\n",
    "    \"\"\"\n",
    "    if type(data) is np.float64 or type(data) is float:\n",
    "        return 1 if data > 1 else -1\n",
    "    elif type(data) is np.ndarray:\n",
    "        return 1 if data[1] > 1 else -1\n",
    "    else:\n",
    "        raise ValueError(\n",
    "            f\"Invalid input {data} type {type(data)}, should be float, np.float64 or np.ndarray\")\n",
    "\n",
    "def create_data(n: int = 1000, int_type: bool = True) -> tuple:\n",
    "    \"\"\"\n",
    "    Create two arrays of data, the first one called data contains n tuples of two random float value <x, y>,\n",
    "    the second called label contains n labels of the data values: 1 if data.y > 1 else -1\n",
    "    \"\"\"\n",
    "    data = []\n",
    "    label = []\n",
    "    for _ in range(n):\n",
    "        node = generate_node()\n",
    "        data.append(node)\n",
    "        if int_type:\n",
    "            label.append(step_function(node[1]))\n",
    "        else:\n",
    "            label.append(step_function(node))\n",
    "    return (np.array(data), np.array(label))\n",
    "\n",
    "def accuracy(predicted: list, test_label: list) -> float:\n",
    "    \"\"\"\n",
    "    Given a predicted label and the test label return the accuracy\n",
    "    \"\"\"\n",
    "    count = 0\n",
    "    for i, j in zip(predicted, test_label):\n",
    "        if i == j:\n",
    "            count += 1\n",
    "    return count / len(predicted)\n",
    "    \n",
    "def MSE(predicted: list, test_label: list) -> float:\n",
    "    \"\"\"\n",
    "    Calculate the MSE (Mean Square error)\n",
    "    \"\"\"\n",
    "    return ((np.array(predicted) - np.array(test_label))**2).mean()"
   ]
  },
  {
   "cell_type": "markdown",
   "id": "d3501ed5",
   "metadata": {},
   "source": [
    "### Adaline Model"
   ]
  },
  {
   "cell_type": "code",
   "execution_count": 149,
   "id": "b26239ae",
   "metadata": {},
   "outputs": [],
   "source": [
    "LEARNING_RATE = 0.01\n",
    "RANDOM_STATE = 1\n",
    "EPOCH = 30\n",
    "\n",
    "class AdalineModel(object):\n",
    "    def __init__(self, epoch: int = EPOCH, random_state: int = RANDOM_STATE):\n",
    "        self.epoch = epoch\n",
    "        self.random_state = random_state\n",
    "        self.bias = random.random()\n",
    "        \n",
    "    def fit(self, X: list, y: list):\n",
    "        state = np.random.RandomState(self.random_state)\n",
    "        self.weights = state.normal(loc=0.0, scale=0.1, size=train_data.shape[1]) # generate new weights\n",
    "        self.errors = []\n",
    "        self.accuracies = []\n",
    "        \n",
    "        for _ in range(self.epoch):\n",
    "            predicted = [step_function(x) for x in self.activation(X)]  # get all the predicted values\n",
    "            errors = y - predicted  # get all the error between real label and predicted\n",
    "            self.weights[:] = self.weights[:] + LEARNING_RATE * X.T.dot(errors)  # update weights\n",
    "            self.bias = self.bias + LEARNING_RATE * errors.sum()  # update bias\n",
    "            self.errors.append(MSE(predicted, y))  # add current error to errors list\n",
    "            self.accuracies.append(accuracy(predicted, y))  # add the current accuracy to accuracies list\n",
    "\n",
    "    def net_input(self, X: list) -> list:\n",
    "        return np.dot(X, self.weights[:]) + self.bias\n",
    "    \n",
    "    def activation(self, X: list) -> list:\n",
    "        return self.net_input(X)\n",
    "\n",
    "    def predict(self, X: list) -> list:\n",
    "        return [step_function(x) for x in self.activation(X)]"
   ]
  },
  {
   "cell_type": "markdown",
   "id": "6f5c9de0",
   "metadata": {},
   "source": [
    "### Example"
   ]
  },
  {
   "cell_type": "code",
   "execution_count": 150,
   "id": "cccb2950",
   "metadata": {},
   "outputs": [],
   "source": [
    "train_data, train_label = create_data()\n",
    "\n",
    "# create and fit a model\n",
    "adaline_model = AdalineModel()\n",
    "adaline_model.fit(np.array(train_data), np.array(train_label))"
   ]
  },
  {
   "cell_type": "code",
   "execution_count": 151,
   "id": "340bc562",
   "metadata": {},
   "outputs": [
    {
     "data": {
      "image/png": "[encoded data removed]",
      "text/plain": [
       "<Figure size 432x288 with 1 Axes>"
      ]
     },
     "metadata": {
      "needs_background": "light"
     },
     "output_type": "display_data"
    }
   ],
   "source": [
    "plt.plot(adaline_model.errors, label=\"errors\")\n",
    "plt.xlabel('Epoch')\n",
    "plt.ylabel('Mean Square Error')\n",
    "plt.title('Errors')\n",
    "plt.xticks(np.arange(EPOCH, step=2))\n",
    "plt.show()"
   ]
  },
  {
   "cell_type": "code",
   "execution_count": 152,
   "id": "53f93618",
   "metadata": {},
   "outputs": [
    {
     "data": {
      "image/png": "[encoded data removed]",
      "text/plain": [
       "<Figure size 432x288 with 1 Axes>"
      ]
     },
     "metadata": {
      "needs_background": "light"
     },
     "output_type": "display_data"
    }
   ],
   "source": [
    "plt.plot(adaline_model.accuracies, label='accuracies')\n",
    "plt.xlabel('Epoch')\n",
    "plt.ylabel('Accuracy')\n",
    "plt.title('Accuracy')\n",
    "plt.xticks(np.arange(EPOCH, step=2))\n",
    "plt.show()"
   ]
  },
  {
   "cell_type": "code",
   "execution_count": 166,
   "id": "a768de4b",
   "metadata": {},
   "outputs": [
    {
     "name": "stdout",
     "output_type": "stream",
     "text": [
      "Accuracy for test_data: 0.994\n"
     ]
    }
   ],
   "source": [
    "# predict for test_data_1\n",
    "test_data, test_label = create_data()\n",
    "predicted = adaline_model.predict(np.array(test_data))\n",
    "print(f\"Accuracy for test_data: {accuracy(test_label, predicted)}\")"
   ]
  },
  {
   "cell_type": "markdown",
   "id": "7d597f22",
   "metadata": {},
   "source": [
    "## Part B:"
   ]
  },
  {
   "cell_type": "code",
   "execution_count": 168,
   "id": "fb9f709f",
   "metadata": {},
   "outputs": [],
   "source": [
    "def step_function(data: tuple) -> int:\n",
    "    \"\"\"\n",
    "    Step function\n",
    "    \"\"\"\n",
    "    if type(data) == tuple:\n",
    "        value = data[0]**2 + data[1]**2\n",
    "        return 1 if 4 <= value and value <= 9 else -1\n",
    "    else:\n",
    "        raise ValueError(f\"Invalid input {data} type {type(data)}, should be tuple\")"
   ]
  },
  {
   "cell_type": "code",
   "execution_count": 169,
   "id": "cdd237a0",
   "metadata": {},
   "outputs": [],
   "source": [
    "LEARNING_RATE = 0.01\n",
    "RANDOM_STATE = 1\n",
    "EPOCH = 30\n",
    "\n",
    "class AdalineModel(object):\n",
    "    def __init__(self, epoch: int = EPOCH, random_state: int = RANDOM_STATE):\n",
    "        self.epoch = epoch\n",
    "        self.random_state = random_state\n",
    "        self.bias = random.random()\n",
    "        \n",
    "    def fit(self, X: list, y: list):\n",
    "        state = np.random.RandomState(self.random_state)\n",
    "        self.weights = state.normal(loc=0.0, scale=0.1, size=train_data.shape[1]) # generate new weights\n",
    "        self.errors = []\n",
    "        self.accuracies = []\n",
    "        \n",
    "        for _ in range(self.epoch):\n",
    "            predicted = self.activation(X)  # get all the predicted values\n",
    "            errors = y - predicted  # get all the error between real label and predicted\n",
    "            self.weights[:] = self.weights[:] + LEARNING_RATE * X.T.dot(errors)  # update weights\n",
    "            self.bias = self.bias + LEARNING_RATE * errors.sum()  # update bias\n",
    "            self.errors.append(MSE(predicted, y))  # add current error to errors list\n",
    "            self.accuracies.append(accuracy(predicted, y))  # add the current accuracy to accuracies list\n",
    "\n",
    "    def net_input(self, X: list) -> list:\n",
    "        return np.dot(X, self.weights[:]) + self.bias\n",
    "    \n",
    "    def activation(self, X: list) -> list:\n",
    "        return self.net_input(X)\n",
    "\n",
    "    def predict(self, X: list) -> list:\n",
    "        return [step_function(x) for x in self.activation(X)]"
   ]
  },
  {
   "cell_type": "code",
   "execution_count": 170,
   "id": "ee7963d4",
   "metadata": {},
   "outputs": [],
   "source": [
    "train_data, train_label = create_data(int_type=False)\n",
    "\n",
    "# create and fit a model\n",
    "adaline_model = AdalineModel()\n",
    "adaline_model.fit(np.array(train_data), np.array(train_label))"
   ]
  },
  {
   "cell_type": "code",
   "execution_count": 171,
   "id": "3e65ed46",
   "metadata": {},
   "outputs": [
    {
     "data": {
      "image/png": "[encoded data removed]",
      "text/plain": [
       "<Figure size 432x288 with 1 Axes>"
      ]
     },
     "metadata": {
      "needs_background": "light"
     },
     "output_type": "display_data"
    }
   ],
   "source": [
    "plt.plot(adaline_model.errors, label=\"errors\")\n",
    "plt.xlabel('Epoch')\n",
    "plt.ylabel('Mean Square Error')\n",
    "plt.title('Errors')\n",
    "plt.xticks(np.arange(EPOCH, step=2))\n",
    "plt.show()"
   ]
  },
  {
   "cell_type": "code",
   "execution_count": 172,
   "id": "91d387cb",
   "metadata": {},
   "outputs": [
    {
     "ename": "ValueError",
     "evalue": "Invalid input -1.2109964158064135e+137 type <class 'numpy.float64'>, should be tuple",
     "output_type": "error",
     "traceback": [
      "\u001b[1;31m---------------------------------------------------------------------------\u001b[0m",
      "\u001b[1;31mValueError\u001b[0m                                Traceback (most recent call last)",
      "\u001b[1;32m<ipython-input-172-960f556c1eec>\u001b[0m in \u001b[0;36m<module>\u001b[1;34m\u001b[0m\n\u001b[0;32m      1\u001b[0m \u001b[1;31m# predict for test_data_1\u001b[0m\u001b[1;33m\u001b[0m\u001b[1;33m\u001b[0m\u001b[1;33m\u001b[0m\u001b[0m\n\u001b[0;32m      2\u001b[0m \u001b[0mtest_data_1\u001b[0m\u001b[1;33m,\u001b[0m \u001b[0mtest_label_1\u001b[0m \u001b[1;33m=\u001b[0m \u001b[0mcreate_data\u001b[0m\u001b[1;33m(\u001b[0m\u001b[0mint_type\u001b[0m\u001b[1;33m=\u001b[0m\u001b[1;32mFalse\u001b[0m\u001b[1;33m)\u001b[0m\u001b[1;33m\u001b[0m\u001b[1;33m\u001b[0m\u001b[0m\n\u001b[1;32m----> 3\u001b[1;33m \u001b[0mpredicted\u001b[0m \u001b[1;33m=\u001b[0m \u001b[0madaline_model\u001b[0m\u001b[1;33m.\u001b[0m\u001b[0mpredict\u001b[0m\u001b[1;33m(\u001b[0m\u001b[0mnp\u001b[0m\u001b[1;33m.\u001b[0m\u001b[0marray\u001b[0m\u001b[1;33m(\u001b[0m\u001b[0mtest_data_1\u001b[0m\u001b[1;33m)\u001b[0m\u001b[1;33m)\u001b[0m\u001b[1;33m\u001b[0m\u001b[1;33m\u001b[0m\u001b[0m\n\u001b[0m\u001b[0;32m      4\u001b[0m \u001b[0mprint\u001b[0m\u001b[1;33m(\u001b[0m\u001b[1;34mf\"Accuracy for test_data_1: {accuracy(test_label_1, predicted)}\"\u001b[0m\u001b[1;33m)\u001b[0m\u001b[1;33m\u001b[0m\u001b[1;33m\u001b[0m\u001b[0m\n\u001b[0;32m      5\u001b[0m \u001b[1;33m\u001b[0m\u001b[0m\n",
      "\u001b[1;32m<ipython-input-169-23750a7eafa4>\u001b[0m in \u001b[0;36mpredict\u001b[1;34m(self, X)\u001b[0m\n\u001b[0;32m     30\u001b[0m \u001b[1;33m\u001b[0m\u001b[0m\n\u001b[0;32m     31\u001b[0m     \u001b[1;32mdef\u001b[0m \u001b[0mpredict\u001b[0m\u001b[1;33m(\u001b[0m\u001b[0mself\u001b[0m\u001b[1;33m,\u001b[0m \u001b[0mX\u001b[0m\u001b[1;33m:\u001b[0m \u001b[0mlist\u001b[0m\u001b[1;33m)\u001b[0m \u001b[1;33m->\u001b[0m \u001b[0mlist\u001b[0m\u001b[1;33m:\u001b[0m\u001b[1;33m\u001b[0m\u001b[1;33m\u001b[0m\u001b[0m\n\u001b[1;32m---> 32\u001b[1;33m         \u001b[1;32mreturn\u001b[0m \u001b[1;33m[\u001b[0m\u001b[0mstep_function\u001b[0m\u001b[1;33m(\u001b[0m\u001b[0mx\u001b[0m\u001b[1;33m)\u001b[0m \u001b[1;32mfor\u001b[0m \u001b[0mx\u001b[0m \u001b[1;32min\u001b[0m \u001b[0mself\u001b[0m\u001b[1;33m.\u001b[0m\u001b[0mactivation\u001b[0m\u001b[1;33m(\u001b[0m\u001b[0mX\u001b[0m\u001b[1;33m)\u001b[0m\u001b[1;33m]\u001b[0m\u001b[1;33m\u001b[0m\u001b[1;33m\u001b[0m\u001b[0m\n\u001b[0m",
      "\u001b[1;32m<ipython-input-169-23750a7eafa4>\u001b[0m in \u001b[0;36m<listcomp>\u001b[1;34m(.0)\u001b[0m\n\u001b[0;32m     30\u001b[0m \u001b[1;33m\u001b[0m\u001b[0m\n\u001b[0;32m     31\u001b[0m     \u001b[1;32mdef\u001b[0m \u001b[0mpredict\u001b[0m\u001b[1;33m(\u001b[0m\u001b[0mself\u001b[0m\u001b[1;33m,\u001b[0m \u001b[0mX\u001b[0m\u001b[1;33m:\u001b[0m \u001b[0mlist\u001b[0m\u001b[1;33m)\u001b[0m \u001b[1;33m->\u001b[0m \u001b[0mlist\u001b[0m\u001b[1;33m:\u001b[0m\u001b[1;33m\u001b[0m\u001b[1;33m\u001b[0m\u001b[0m\n\u001b[1;32m---> 32\u001b[1;33m         \u001b[1;32mreturn\u001b[0m \u001b[1;33m[\u001b[0m\u001b[0mstep_function\u001b[0m\u001b[1;33m(\u001b[0m\u001b[0mx\u001b[0m\u001b[1;33m)\u001b[0m \u001b[1;32mfor\u001b[0m \u001b[0mx\u001b[0m \u001b[1;32min\u001b[0m \u001b[0mself\u001b[0m\u001b[1;33m.\u001b[0m\u001b[0mactivation\u001b[0m\u001b[1;33m(\u001b[0m\u001b[0mX\u001b[0m\u001b[1;33m)\u001b[0m\u001b[1;33m]\u001b[0m\u001b[1;33m\u001b[0m\u001b[1;33m\u001b[0m\u001b[0m\n\u001b[0m",
      "\u001b[1;32m<ipython-input-168-c1860022bf41>\u001b[0m in \u001b[0;36mstep_function\u001b[1;34m(data)\u001b[0m\n\u001b[0;32m      7\u001b[0m         \u001b[1;32mreturn\u001b[0m \u001b[1;36m1\u001b[0m \u001b[1;32mif\u001b[0m \u001b[1;36m4\u001b[0m \u001b[1;33m<=\u001b[0m \u001b[0mvalue\u001b[0m \u001b[1;32mand\u001b[0m \u001b[0mvalue\u001b[0m \u001b[1;33m<=\u001b[0m \u001b[1;36m9\u001b[0m \u001b[1;32melse\u001b[0m \u001b[1;33m-\u001b[0m\u001b[1;36m1\u001b[0m\u001b[1;33m\u001b[0m\u001b[1;33m\u001b[0m\u001b[0m\n\u001b[0;32m      8\u001b[0m     \u001b[1;32melse\u001b[0m\u001b[1;33m:\u001b[0m\u001b[1;33m\u001b[0m\u001b[1;33m\u001b[0m\u001b[0m\n\u001b[1;32m----> 9\u001b[1;33m         \u001b[1;32mraise\u001b[0m \u001b[0mValueError\u001b[0m\u001b[1;33m(\u001b[0m\u001b[1;34mf\"Invalid input {data} type {type(data)}, should be tuple\"\u001b[0m\u001b[1;33m)\u001b[0m\u001b[1;33m\u001b[0m\u001b[1;33m\u001b[0m\u001b[0m\n\u001b[0m",
      "\u001b[1;31mValueError\u001b[0m: Invalid input -1.2109964158064135e+137 type <class 'numpy.float64'>, should be tuple"
     ]
    }
   ],
   "source": [
    "# predict for test_data_1\n",
    "test_data_1, test_label_1 = create_data(int_type=False)\n",
    "predicted = adaline_model.predict(np.array(test_data_1))\n",
    "print(f\"Accuracy for test_data_1: {accuracy(test_label_1, predicted)}\")\n",
    "\n",
    "# predict for test_data_2\n",
    "test_data_2, test_label_2 = create_data(int_type=False)\n",
    "predicted = adaline_model.predict(np.array(test_data_2))\n",
    "print(f\"Accuracy for test_data_2: {accuracy(test_label_1, predicted)}\")"
   ]
  },
  {
   "cell_type": "code",
   "execution_count": null,
   "id": "da95e2f7",
   "metadata": {},
   "outputs": [],
   "source": []
  },
  {
   "cell_type": "code",
   "execution_count": null,
   "id": "732077f7",
   "metadata": {},
   "outputs": [],
   "source": []
  }
 ],
 "metadata": {
  "kernelspec": {
   "display_name": "Python 3",
   "language": "python",
   "name": "python3"
  },
  "language_info": {
   "codemirror_mode": {
    "name": "ipython",
    "version": 3
   },
   "file_extension": ".py",
   "mimetype": "text/x-python",
   "name": "python",
   "nbconvert_exporter": "python",
   "pygments_lexer": "ipython3",
   "version": "3.8.8"
  }
 },
 "nbformat": 4,
 "nbformat_minor": 5
}
