{
 "cells": [
  {
   "cell_type": "code",
   "execution_count": 1,
   "id": "f63bb7ea",
   "metadata": {},
   "outputs": [],
   "source": [
    "from matplotlib import pyplot as plt\n",
    "%matplotlib inline\n",
    "import seaborn as sns\n",
    "import random\n",
    "import numpy as np\n",
    "from typing import Union"
   ]
  },
  {
   "cell_type": "markdown",
   "id": "72e35382",
   "metadata": {},
   "source": [
    "### Util Funcitons"
   ]
  },
  {
   "cell_type": "code",
   "execution_count": 2,
   "id": "1db9027d",
   "metadata": {},
   "outputs": [],
   "source": [
    "VALID_NUMBER_TYPES = [int, float, np.float64]\n",
    "VALID_SET_TYPES = [tuple, list, np.ndarray]\n",
    "\n",
    "def generate_node() -> tuple((float, float)):\n",
    "    \"\"\"\n",
    "    Return a tuple of two float value <x, y>\n",
    "    when x, y <= +-100\n",
    "    \"\"\"\n",
    "    x = random.randint(-10000, 10000)\n",
    "    y = random.randint(-10000, 10000)\n",
    "    return (x / 100, y / 100)\n",
    "\n",
    "def step_function(data: Union[float, np.float64, np.ndarray]) -> int:\n",
    "    \"\"\"\n",
    "    Step function\n",
    "    \"\"\"\n",
    "    if type(data) is np.float64 or type(data) is float:\n",
    "        return 1 if data > 1 else -1\n",
    "    elif type(data) is np.ndarray:\n",
    "        return 1 if data[1] > 1 else -1\n",
    "    else:\n",
    "        raise ValueError(\n",
    "            f\"Invalid input {data} type {type(data)}, should be float, np.float64 or np.ndarray\")\n",
    "\n",
    "def create_data(step, n: int = 1000, int_type: bool = True) -> tuple:\n",
    "    \"\"\"\n",
    "    Create two arrays of data, the first one called data contains n tuples of two random float value <x, y>,\n",
    "    the second called label contains n labels of the data values: 1 if data.y > 1 else -1\n",
    "    \"\"\"\n",
    "    data = []\n",
    "    label = []\n",
    "    for _ in range(n):\n",
    "        node = generate_node()\n",
    "        data.append(node)\n",
    "        if int_type:\n",
    "            label.append(step(node[1]))\n",
    "        else:\n",
    "            label.append(step(node))\n",
    "    return (np.array(data), np.array(label))\n",
    "\n",
    "def accuracy(predicted: list, test_label: list) -> float:\n",
    "    \"\"\"\n",
    "    Given a predicted label and the test label return the accuracy\n",
    "    \"\"\"\n",
    "    count = 0\n",
    "    for i, j in zip(predicted, test_label):\n",
    "        if i == j:\n",
    "            count += 1\n",
    "    return count / len(predicted)\n",
    "    \n",
    "def MSE(predicted: list, test_label: list) -> float:\n",
    "    \"\"\"\n",
    "    Calculate the MSE (Mean Square error)\n",
    "    \"\"\"\n",
    "    return ((np.array(predicted) - np.array(test_label))**2).mean()"
   ]
  },
  {
   "cell_type": "code",
   "execution_count": 3,
   "id": "ed2afc30",
   "metadata": {},
   "outputs": [],
   "source": [
    "def get_confusion_matrix_data(predicted: list, test_label: list) -> np.array:\n",
    "    \"\"\"\n",
    "    Return all the confusion matrix data in this format:\n",
    "    [[true_negative false_positive]\n",
    "     [false_negative true_positive]]\n",
    "    \"\"\"\n",
    "    true_positive = false_positive = true_negative = false_negative = 0\n",
    "    for i, j in zip(predicted, test_label):\n",
    "        if i == 1 and j == 1:\n",
    "            true_positive += 1\n",
    "        elif i == -1 and j == 1:\n",
    "            false_positive += 1\n",
    "        elif i == -1 and j == -1:\n",
    "            true_negative += 1\n",
    "        elif i == 1 and j == -1:\n",
    "            false_negative += 1\n",
    "    cf_matrix = np.array([true_negative, false_positive, false_negative, true_positive])\n",
    "    cf_matrix = np.reshape(cf_matrix, (2, 2))\n",
    "    return cf_matrix\n",
    "\n",
    "def print_confusion_matrix_data(cf_matrix, title: str = \"\"):\n",
    "    group_counts = [\"{0:0.0f}\".format(value) for value in\n",
    "                cf_matrix.flatten()]\n",
    "    labels = np.asarray(group_counts).reshape(2,2)\n",
    "    ax = sns.heatmap(cf_matrix, annot=labels, fmt='', cmap='Blues')\n",
    "    ax.set_title(f'{title}\\n\\n', color='white');\n",
    "    ax.set_xlabel('\\nPredicted Values', color='white')\n",
    "    ax.set_ylabel('Actual Values ', color='white');\n",
    "    ax.xaxis.set_ticklabels(['False Negative','True Negative'], color='white')\n",
    "    ax.yaxis.set_ticklabels(['False Positive','True Positive'], color='white')\n",
    "    plt.show()\n",
    "    \n",
    "def get_precision(true_positive: int, false_positive: int) -> int:\n",
    "    return true_positive / (true_positive + false_positive)\n",
    "\n",
    "def get_recall(true_positive: int, false_negative: int) -> int:\n",
    "    return true_positive / (true_positive + false_negative)\n",
    "\n",
    "def get_f_score(true_positive: int, false_positive:int, false_negative: int) -> int:\n",
    "    counter = get_precision(true_positive, false_positive) * get_recall(true_positive, false_negative)\n",
    "    denominator = get_precision(true_positive, false_positive) + get_recall(true_positive, false_negative)\n",
    "    return counter / denominator\n",
    "\n",
    "def print_scores(cf_matrix_1: np.array):\n",
    "    true_positive = cf_matrix_1[1][1]\n",
    "    false_positive = cf_matrix_1[0][1]\n",
    "    false_negative = cf_matrix_1[1][0]\n",
    "    print(\"Precision: {:.3f}\".format(get_precision(true_positive, false_positive)))\n",
    "    print(\"Recall: {:.3f}\".format(get_recall(true_positive, false_negative)))\n",
    "    print(\"F Score: {:.3f}\".format(get_f_score(true_positive, false_positive, false_negative)))"
   ]
  },
  {
   "cell_type": "markdown",
   "id": "d3501ed5",
   "metadata": {},
   "source": [
    "### Adaline Model"
   ]
  },
  {
   "cell_type": "code",
   "execution_count": 4,
   "id": "b26239ae",
   "metadata": {},
   "outputs": [],
   "source": [
    "LEARNING_RATE = 0.01\n",
    "RANDOM_STATE = 1\n",
    "EPOCH = 30\n",
    "\n",
    "class AdalineModel(object):\n",
    "    def __init__(self, epoch: int = EPOCH, random_state: int = RANDOM_STATE):\n",
    "        self.epoch = epoch\n",
    "        self.random_state = random_state\n",
    "        self.bias = random.random()\n",
    "        \n",
    "    def fit(self, X: list, y: list):\n",
    "        state = np.random.RandomState(self.random_state)\n",
    "        self.weights = state.normal(loc=0.0, scale=0.1, size=train_data.shape[1]) # generate new weights\n",
    "        self.errors = []\n",
    "        self.accuracies = []\n",
    "        \n",
    "        for _ in range(self.epoch):\n",
    "            predicted = [step_function(x) for x in self.activation(X)]  # get all the predicted values\n",
    "            errors = y - predicted  # get all the error between real label and predicted\n",
    "            \n",
    "            self.weights[:] = self.weights[:] + (LEARNING_RATE * X.T.dot(y))  # update weights\n",
    "#             self.weights[:] = self.weights[:] + LEARNING_RATE * X.T.dot(errors)  # old\n",
    "            self.bias = self.bias + LEARNING_RATE * errors.sum()  # update bias\n",
    "            self.errors.append(MSE(predicted, y))  # add current error to errors list\n",
    "            self.accuracies.append(accuracy(predicted, y))  # add the current accuracy to accuracies list\n",
    "\n",
    "    def net_input(self, X: list) -> list:\n",
    "        return np.dot(X, self.weights[:]) + self.bias\n",
    "    \n",
    "    def activation(self, X: list) -> list:\n",
    "        return self.net_input(X)\n",
    "\n",
    "    def predict(self, X: list) -> list:\n",
    "        return [step_function(x) for x in self.activation(X)]"
   ]
  },
  {
   "cell_type": "markdown",
   "id": "6f5c9de0",
   "metadata": {},
   "source": [
    "### Example"
   ]
  },
  {
   "cell_type": "code",
   "execution_count": 5,
   "id": "cccb2950",
   "metadata": {},
   "outputs": [],
   "source": [
    "train_data, train_label = create_data(step_function)\n",
    "\n",
    "# create and fit a model\n",
    "adaline_model = AdalineModel()\n",
    "adaline_model.fit(np.array(train_data), np.array(train_label))"
   ]
  },
  {
   "cell_type": "code",
   "execution_count": 6,
   "id": "303669d9",
   "metadata": {},
   "outputs": [
    {
     "data": {
      "text/plain": [
       "0.014"
      ]
     },
     "execution_count": 6,
     "metadata": {},
     "output_type": "execute_result"
    }
   ],
   "source": [
    "train_label.mean()"
   ]
  },
  {
   "cell_type": "code",
   "execution_count": 7,
   "id": "340bc562",
   "metadata": {},
   "outputs": [
    {
     "data": {
      "image/png": "[encoded data removed]",
      "text/plain": [
       "<Figure size 432x288 with 1 Axes>"
      ]
     },
     "metadata": {
      "needs_background": "light"
     },
     "output_type": "display_data"
    }
   ],
   "source": [
    "plt.plot(adaline_model.errors, label=\"errors\")\n",
    "plt.xlabel('Epoch', color='white')\n",
    "plt.ylabel('Mean Square Error', color='white')\n",
    "plt.title('Errors', color='white')\n",
    "plt.xticks(np.arange(EPOCH, step=2))\n",
    "plt.show()"
   ]
  },
  {
   "cell_type": "code",
   "execution_count": 8,
   "id": "53f93618",
   "metadata": {},
   "outputs": [
    {
     "data": {
      "image/png": "[encoded data removed]",
      "text/plain": [
       "<Figure size 432x288 with 1 Axes>"
      ]
     },
     "metadata": {
      "needs_background": "light"
     },
     "output_type": "display_data"
    }
   ],
   "source": [
    "plt.plot(adaline_model.accuracies, label='accuracies')\n",
    "plt.xlabel('Epoch', color='white')\n",
    "plt.ylabel('Accuracy', color='white')\n",
    "plt.title('Accuracy', color='white')\n",
    "plt.xticks(np.arange(EPOCH, step=2))\n",
    "plt.show()"
   ]
  },
  {
   "cell_type": "code",
   "execution_count": 9,
   "id": "a768de4b",
   "metadata": {},
   "outputs": [
    {
     "name": "stdout",
     "output_type": "stream",
     "text": [
      "Accuracy for test_data_1: 0.987\n",
      "Accuracy for test_data_2: 0.985\n"
     ]
    }
   ],
   "source": [
    "# predict for test_data_1\n",
    "test_data_1, test_label_1 = create_data(step_function)\n",
    "predicted_1 = adaline_model.predict(np.array(test_data_1))\n",
    "print(f\"Accuracy for test_data_1: {accuracy(test_label_1, predicted_1)}\")\n",
    "\n",
    "# predict for test_data_1\n",
    "test_data_2, test_label_2 = create_data(step_function)\n",
    "predicted_2 = adaline_model.predict(np.array(test_data_2))\n",
    "print(f\"Accuracy for test_data_2: {accuracy(test_label_2, predicted_2)}\")"
   ]
  },
  {
   "cell_type": "code",
   "execution_count": 10,
   "id": "17005a16",
   "metadata": {},
   "outputs": [
    {
     "data": {
      "image/png": "[encoded data removed]",
      "text/plain": [
       "<Figure size 432x288 with 2 Axes>"
      ]
     },
     "metadata": {},
     "output_type": "display_data"
    },
    {
     "data": {
      "image/png": "[encoded data removed]",
      "text/plain": [
       "<Figure size 432x288 with 2 Axes>"
      ]
     },
     "metadata": {},
     "output_type": "display_data"
    }
   ],
   "source": [
    "cf_matrix_1 = get_confusion_matrix_data(predicted_1, test_label_1)\n",
    "print_confusion_matrix_data(cf_matrix_1, title=\"test_label_1 confusion matrix\")\n",
    "\n",
    "cf_matrix_2 = get_confusion_matrix_data(predicted_2, test_label_2)\n",
    "print_confusion_matrix_data(cf_matrix_2, title=\"test_label_2 confusion matrix\")"
   ]
  },
  {
   "cell_type": "code",
   "execution_count": 11,
   "id": "e12906a8",
   "metadata": {},
   "outputs": [
    {
     "name": "stdout",
     "output_type": "stream",
     "text": [
      "Scores of cf_matrix_1:\n",
      "Precision: 0.994\n",
      "Recall: 0.980\n",
      "F Score: 0.494\n",
      "\n",
      "\n",
      "Scores of cf_matrix_2:\n",
      "Precision: 0.992\n",
      "Recall: 0.978\n",
      "F Score: 0.492\n"
     ]
    }
   ],
   "source": [
    "print(\"Scores of cf_matrix_1:\")\n",
    "print_scores(cf_matrix_1)\n",
    "print(\"\\n\")\n",
    "print(\"Scores of cf_matrix_2:\")\n",
    "print_scores(cf_matrix_2)"
   ]
  }
 ],
 "metadata": {
  "kernelspec": {
   "display_name": "Python 3",
   "language": "python",
   "name": "python3"
  },
  "language_info": {
   "codemirror_mode": {
    "name": "ipython",
    "version": 3
   },
   "file_extension": ".py",
   "mimetype": "text/x-python",
   "name": "python",
   "nbconvert_exporter": "python",
   "pygments_lexer": "ipython3",
   "version": "3.8.8"
  }
 },
 "nbformat": 4,
 "nbformat_minor": 5
}
